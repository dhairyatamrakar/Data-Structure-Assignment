{
 "cells": [
  {
   "cell_type": "code",
   "execution_count": 1,
   "id": "63ded845-c895-479b-88e3-cc3a7b68085a",
   "metadata": {},
   "outputs": [
    {
     "data": {
      "text/plain": [
       "'Hlo'"
      ]
     },
     "execution_count": 1,
     "metadata": {},
     "output_type": "execute_result"
    }
   ],
   "source": [
    "# 1.Discuss string slicing and provide examples.\n",
    "\n",
    "# Ans(1) String slicing in Python is a way to get a part of a string by specifying a range of indices.\n",
    "\n",
    "# Ex:- \n",
    "a = \"Hello World\"\n",
    "a[0:5:2]\n"
   ]
  },
  {
   "cell_type": "code",
   "execution_count": 2,
   "id": "300ef0ab-e431-4841-a3c0-27b58b1a0d58",
   "metadata": {},
   "outputs": [
    {
     "data": {
      "text/plain": [
       "['Dhairya', 92, '123']"
      ]
     },
     "execution_count": 2,
     "metadata": {},
     "output_type": "execute_result"
    }
   ],
   "source": [
    "# 2. Explain the key features of list in python.\n",
    "\n",
    "# Ans(2) A list is a versatile, ordered collection of items that can store a variety of data types\n",
    "\n",
    "# the key features of lists in Python are :-\n",
    "\n",
    "# (1) Ordered :- Lists maintain the order of elements. When you add items to a list, they retain their position, and you can access them by their index.\n",
    "# (2) Mutable :- Lists can be changed after their creation. You can add, remove, or modify elements.\n",
    "# (3) Heterogeneous :- A list can contain items of different data types, including other lists.\n",
    "# (4) Slicing :- Lists support slicing to access a subset of elements.\n",
    "# (5) Methods :- Lists have many built-in methods for various operations, such as adding, removing, and sorting elements.\n",
    "# (6) Iteration :- You can loop through a list to access each element.\n",
    "# (7) List Comprehensions :- A concise way to create lists\n",
    "\n",
    "# Ex:- \n",
    "list = [\"Dhairya\", 92, \"123\"]\n",
    "list"
   ]
  },
  {
   "cell_type": "code",
   "execution_count": null,
   "id": "bb010b12-2d16-4870-ad8d-93282303cd44",
   "metadata": {},
   "outputs": [],
   "source": []
  },
  {
   "cell_type": "code",
   "execution_count": 6,
   "id": "b0c5b1ec-1e6d-47be-939f-e709751b1085",
   "metadata": {},
   "outputs": [],
   "source": [
    "# 3.Describe how to access, modify, and delete elements in a list with examples.\n",
    "\n",
    "# Ans(3) \n",
    "\n",
    "l = [\"Banana\", \"Mango\", \"Apple\", \"Orange\"]"
   ]
  },
  {
   "cell_type": "code",
   "execution_count": 7,
   "id": "381c6703-9d5e-4e59-a858-315d182569d2",
   "metadata": {},
   "outputs": [
    {
     "data": {
      "text/plain": [
       "'Apple'"
      ]
     },
     "execution_count": 7,
     "metadata": {},
     "output_type": "execute_result"
    }
   ],
   "source": [
    "# Accessing Elements in a List\n",
    "l[0]\n",
    "l[2]"
   ]
  },
  {
   "cell_type": "code",
   "execution_count": 9,
   "id": "f2216f58-b3f6-4e55-a73a-52d8e688ac9a",
   "metadata": {},
   "outputs": [
    {
     "data": {
      "text/plain": [
       "['Banana', 'Mango', 'hello world', 'Orange']"
      ]
     },
     "execution_count": 9,
     "metadata": {},
     "output_type": "execute_result"
    }
   ],
   "source": [
    "# Modifying Elements in a List\n",
    "l[2] = \"hello world\"\n",
    "l"
   ]
  },
  {
   "cell_type": "code",
   "execution_count": 20,
   "id": "2bcc0c40-06db-48d8-b87e-20a64fa5c091",
   "metadata": {},
   "outputs": [
    {
     "data": {
      "text/plain": [
       "'Orange'"
      ]
     },
     "execution_count": 20,
     "metadata": {},
     "output_type": "execute_result"
    }
   ],
   "source": [
    "# Deleting Elements in a List\n",
    "l = [\"Banana\", \"Mango\", \"Apple\", \"Orange\"]\n",
    "del l[2]\n",
    "l.remove(\"Banana\")\n",
    "l.pop()"
   ]
  },
  {
   "cell_type": "code",
   "execution_count": null,
   "id": "9728957a-7742-4a92-b428-2d4d37fa4152",
   "metadata": {},
   "outputs": [],
   "source": []
  },
  {
   "cell_type": "code",
   "execution_count": 21,
   "id": "3d830ff7-6956-4628-b7c2-10828764dc44",
   "metadata": {},
   "outputs": [],
   "source": [
    "# 4. Compare and contrast tuples and lists with examples.\n",
    "# Ans(4)"
   ]
  },
  {
   "cell_type": "code",
   "execution_count": 23,
   "id": "a28ac0f7-a603-4381-a8d2-529ea8cc218c",
   "metadata": {},
   "outputs": [],
   "source": [
    "# 1. Mutability\n",
    "\n",
    "# Lists: Can be changed (mutable).\n",
    "# Tuples: Cannot be changed (immutable).\n",
    "\n",
    "# Ex:- "
   ]
  },
  {
   "cell_type": "code",
   "execution_count": 24,
   "id": "66864aa1-741d-4a51-9bfa-7bfbc72c770c",
   "metadata": {},
   "outputs": [
    {
     "data": {
      "text/plain": [
       "['Hello', 'Banana']"
      ]
     },
     "execution_count": 24,
     "metadata": {},
     "output_type": "execute_result"
    }
   ],
   "source": [
    "l = [\"Mango\", \"Banana\"]\n",
    "l[0] = \"Hello\"\n",
    "l"
   ]
  },
  {
   "cell_type": "code",
   "execution_count": 26,
   "id": "a0b99174-1496-4cdc-b13a-50ef97c175e8",
   "metadata": {},
   "outputs": [
    {
     "ename": "TypeError",
     "evalue": "'tuple' object does not support item assignment",
     "output_type": "error",
     "traceback": [
      "\u001b[0;31m---------------------------------------------------------------------------\u001b[0m",
      "\u001b[0;31mTypeError\u001b[0m                                 Traceback (most recent call last)",
      "Cell \u001b[0;32mIn[26], line 2\u001b[0m\n\u001b[1;32m      1\u001b[0m t \u001b[38;5;241m=\u001b[39m (\u001b[38;5;241m2\u001b[39m,\u001b[38;5;241m3\u001b[39m,\u001b[38;5;124m\"\u001b[39m\u001b[38;5;124mdhairya\u001b[39m\u001b[38;5;124m\"\u001b[39m)\n\u001b[0;32m----> 2\u001b[0m \u001b[43mt\u001b[49m\u001b[43m[\u001b[49m\u001b[38;5;241;43m2\u001b[39;49m\u001b[43m]\u001b[49m \u001b[38;5;241m=\u001b[39m \u001b[38;5;124m\"\u001b[39m\u001b[38;5;124mBoss\u001b[39m\u001b[38;5;124m\"\u001b[39m\n\u001b[1;32m      3\u001b[0m t\n",
      "\u001b[0;31mTypeError\u001b[0m: 'tuple' object does not support item assignment"
     ]
    }
   ],
   "source": [
    "t = (2,3,\"dhairya\")\n",
    "t[2] = \"Boss\"\n",
    "t"
   ]
  },
  {
   "cell_type": "code",
   "execution_count": 28,
   "id": "be1fe4bd-7e74-4440-9099-c3a2249a7797",
   "metadata": {},
   "outputs": [],
   "source": [
    "# 2. Syntax\n",
    "\n",
    "# Lists: Created using square brackets [].\n",
    "# Tuples: Created using parentheses ().\n",
    "# Ex:- "
   ]
  },
  {
   "cell_type": "code",
   "execution_count": 31,
   "id": "d68918d9-dcf5-4265-8d1e-9cd6fcd6e112",
   "metadata": {},
   "outputs": [
    {
     "data": {
      "text/plain": [
       "list"
      ]
     },
     "execution_count": 31,
     "metadata": {},
     "output_type": "execute_result"
    }
   ],
   "source": [
    "lis = []\n",
    "tup = ()\n",
    "type(lis)"
   ]
  },
  {
   "cell_type": "code",
   "execution_count": 32,
   "id": "adf92d56-1ead-4680-ac0e-18fa178a24f5",
   "metadata": {},
   "outputs": [
    {
     "data": {
      "text/plain": [
       "tuple"
      ]
     },
     "execution_count": 32,
     "metadata": {},
     "output_type": "execute_result"
    }
   ],
   "source": [
    "type(tup)"
   ]
  },
  {
   "cell_type": "code",
   "execution_count": 33,
   "id": "33a2ac71-474c-4af5-8edf-8e71d5acc2b2",
   "metadata": {},
   "outputs": [],
   "source": [
    "# 4. Methods\n",
    "\n",
    "# Lists: Many methods for modifying (e.g., append(), remove(), sort()).\n",
    "# Tuples: Fewer methods (e.g., count(), index())."
   ]
  },
  {
   "cell_type": "code",
   "execution_count": null,
   "id": "695353e1-d116-47d9-b247-472401f89e74",
   "metadata": {},
   "outputs": [],
   "source": []
  },
  {
   "cell_type": "code",
   "execution_count": 36,
   "id": "e77eb740-9cf0-4ab2-821c-5ac2881aa8c5",
   "metadata": {},
   "outputs": [],
   "source": [
    "# 5. Describe the key features of sets and provide examples of their use.\n",
    "# Ans(5)"
   ]
  },
  {
   "cell_type": "code",
   "execution_count": 38,
   "id": "ae7558b0-244d-4cc2-8d98-b8a2107ac48d",
   "metadata": {},
   "outputs": [
    {
     "data": {
      "text/plain": [
       "{0, 1, 5, 8, 77}"
      ]
     },
     "execution_count": 38,
     "metadata": {},
     "output_type": "execute_result"
    }
   ],
   "source": [
    "# (1) Unordered Collection: Sets do not maintain any specific order\n",
    "# Ex:-\n",
    "my_set = {1,8,0,77,5}\n",
    "my_set"
   ]
  },
  {
   "cell_type": "code",
   "execution_count": 39,
   "id": "1a5ed4cd-a34f-4f4e-8748-2e862e4a435b",
   "metadata": {},
   "outputs": [
    {
     "data": {
      "text/plain": [
       "{23, 44}"
      ]
     },
     "execution_count": 39,
     "metadata": {},
     "output_type": "execute_result"
    }
   ],
   "source": [
    "# (2) Unique Elements: Sets automatically remove duplicates. Each element is unique.\n",
    "# Ex:-\n",
    "my_set = {23,44,23,44}\n",
    "my_set"
   ]
  },
  {
   "cell_type": "code",
   "execution_count": 41,
   "id": "e879f350-1ea5-4e11-a8f1-59961da22b42",
   "metadata": {},
   "outputs": [
    {
     "data": {
      "text/plain": [
       "{1, 2, 3, 5, 22, 23, 44, 999}"
      ]
     },
     "execution_count": 41,
     "metadata": {},
     "output_type": "execute_result"
    }
   ],
   "source": [
    "# (3) Mutable: You can add or remove elements from a set.\n",
    "# Ex:-\n",
    "my_set = {22,44,23,1,2,3,5}\n",
    "my_set.add(999)\n",
    "my_set"
   ]
  },
  {
   "cell_type": "code",
   "execution_count": 44,
   "id": "264ae84a-e3af-4bc9-91ce-70f2b0d6ce0f",
   "metadata": {},
   "outputs": [
    {
     "data": {
      "text/plain": [
       "{1, 2, 3, 5, 23, 999}"
      ]
     },
     "execution_count": 44,
     "metadata": {},
     "output_type": "execute_result"
    }
   ],
   "source": [
    "my_set.remove(44)\n",
    "my_set"
   ]
  },
  {
   "cell_type": "code",
   "execution_count": 1,
   "id": "b666d4d9-cccf-4020-b8b7-def5d0d81e65",
   "metadata": {},
   "outputs": [
    {
     "ename": "TypeError",
     "evalue": "'set' object is not subscriptable",
     "output_type": "error",
     "traceback": [
      "\u001b[0;31m---------------------------------------------------------------------------\u001b[0m",
      "\u001b[0;31mTypeError\u001b[0m                                 Traceback (most recent call last)",
      "Cell \u001b[0;32mIn[1], line 4\u001b[0m\n\u001b[1;32m      1\u001b[0m \u001b[38;5;66;03m# (4) No Indexing: Since sets are unordered, you cannot access elements using an index.\u001b[39;00m\n\u001b[1;32m      2\u001b[0m \u001b[38;5;66;03m# Ex:- \u001b[39;00m\n\u001b[1;32m      3\u001b[0m my_set \u001b[38;5;241m=\u001b[39m {\u001b[38;5;124m\"\u001b[39m\u001b[38;5;124mbanana\u001b[39m\u001b[38;5;124m\"\u001b[39m, \u001b[38;5;124m\"\u001b[39m\u001b[38;5;124mapple\u001b[39m\u001b[38;5;124m\"\u001b[39m}\n\u001b[0;32m----> 4\u001b[0m \u001b[43mmy_set\u001b[49m\u001b[43m[\u001b[49m\u001b[38;5;241;43m0\u001b[39;49m\u001b[43m]\u001b[49m\n",
      "\u001b[0;31mTypeError\u001b[0m: 'set' object is not subscriptable"
     ]
    }
   ],
   "source": [
    "# (4) No Indexing: Since sets are unordered, you cannot access elements using an index.\n",
    "# Ex:- \n",
    "my_set = {\"banana\", \"apple\"}\n",
    "my_set[0]"
   ]
  },
  {
   "cell_type": "code",
   "execution_count": 2,
   "id": "986ef3af-0d9e-4361-a796-6cf1cfdeb9f8",
   "metadata": {},
   "outputs": [
    {
     "data": {
      "text/plain": [
       "True"
      ]
     },
     "execution_count": 2,
     "metadata": {},
     "output_type": "execute_result"
    }
   ],
   "source": [
    "# (5) Efficient Membership Testing: Sets provide a fast way to check if an item is in the set.\n",
    "# Ex:- \n",
    "my_set = {\"Dhairya\", 1,3,4,\"Boss\"}\n",
    "\"Dhairya\" in my_set"
   ]
  },
  {
   "cell_type": "code",
   "execution_count": 6,
   "id": "1c2cb099-7eed-4b74-b7cc-88e5479a418f",
   "metadata": {},
   "outputs": [
    {
     "data": {
      "text/plain": [
       "{1, 3, 4, 'Boss', 'Dhairya'}"
      ]
     },
     "execution_count": 6,
     "metadata": {},
     "output_type": "execute_result"
    }
   ],
   "source": [
    "# Set Operations: Sets support operations like union, intersection, difference, and symmetric difference.\n",
    "# Ex:-\n",
    "set1 = {\"Dhairya\", 1,3,4,\"Boss\"}\n",
    "set2 = {\"Hello\", 45,42,\"World\"}\n",
    "\n",
    "set1.intersection(set2)\n",
    "set1.union(set2)\n",
    "set1.difference(set2)"
   ]
  },
  {
   "cell_type": "code",
   "execution_count": null,
   "id": "ab887710-12a0-499b-9015-bff34f15a485",
   "metadata": {},
   "outputs": [],
   "source": []
  },
  {
   "cell_type": "code",
   "execution_count": 8,
   "id": "9a5e5de7-6b08-4cd9-9963-e9a3d98f555d",
   "metadata": {},
   "outputs": [],
   "source": [
    "# 6. Discuss the use cases of tuples and sets in Python Programming.\n",
    "# Ans(6) Use Cases of Tuples and Sets in Python"
   ]
  },
  {
   "cell_type": "code",
   "execution_count": 9,
   "id": "0795e8ab-9170-46f5-b0c6-507f650510a2",
   "metadata": {},
   "outputs": [],
   "source": [
    "# Tuples\n",
    "\n",
    "# Use tuples when you have a collection of items that should not change.\n",
    "# Tuples can hold different types of data together.\n",
    "# Use tuples as keys in dictionaries since they are immutable.\n",
    "# Functions can return multiple values using tuples.\n",
    "# Use tuples for data structures that should remain fixed.\n",
    "\n",
    "\n",
    "# Sets\n",
    "\n",
    "# Use sets to store unique items.\n",
    "# Sets provide a quick way to check if an item is present.\n",
    "# Perform operations like union, intersection, and difference.\n",
    "# Convert a list to a set to remove duplicates.\n",
    "# Use sets to find common items in multiple collections.\n"
   ]
  },
  {
   "cell_type": "code",
   "execution_count": null,
   "id": "453a5282-f66c-46c1-aa43-4044c7100dcd",
   "metadata": {},
   "outputs": [],
   "source": []
  },
  {
   "cell_type": "code",
   "execution_count": 1,
   "id": "ec53d97d-b01f-4a77-af17-cebb46867431",
   "metadata": {},
   "outputs": [],
   "source": [
    "# 7. Describe how to add, modify, and delete items in a dictionary with examples.\n",
    "# Ans(7)"
   ]
  },
  {
   "cell_type": "code",
   "execution_count": 2,
   "id": "fbfe4bf8-b05b-4194-950c-068a19558a6a",
   "metadata": {},
   "outputs": [
    {
     "data": {
      "text/plain": [
       "{'name': 'Dhairya', 'Age': 17, 'course': 'Data Science'}"
      ]
     },
     "execution_count": 2,
     "metadata": {},
     "output_type": "execute_result"
    }
   ],
   "source": [
    "d = {\"name\":\"Dhairya\", \"Age\":17, \"course\":\"Data Science\"}\n",
    "d"
   ]
  },
  {
   "cell_type": "code",
   "execution_count": 5,
   "id": "342f1737-f161-4dea-9705-89aedb51ec5d",
   "metadata": {},
   "outputs": [
    {
     "data": {
      "text/plain": [
       "{'name': 'Dhairya', 'Age': 17, 'course': 'Data Science', 'gender': 'male'}"
      ]
     },
     "execution_count": 5,
     "metadata": {},
     "output_type": "execute_result"
    }
   ],
   "source": [
    "# Add\n",
    "d[\"gender\"] = \"male\"\n",
    "d"
   ]
  },
  {
   "cell_type": "code",
   "execution_count": 6,
   "id": "8fedba6e-c4e5-46ef-8492-fcc2c0932928",
   "metadata": {},
   "outputs": [
    {
     "data": {
      "text/plain": [
       "{'name': 'Dhairya', 'Age': 18, 'course': 'Data Science', 'gender': 'male'}"
      ]
     },
     "execution_count": 6,
     "metadata": {},
     "output_type": "execute_result"
    }
   ],
   "source": [
    "# modify\n",
    "d[\"Age\"] = 18\n",
    "d"
   ]
  },
  {
   "cell_type": "code",
   "execution_count": 7,
   "id": "25164966-152c-450f-9393-e8cc264dfb22",
   "metadata": {},
   "outputs": [
    {
     "data": {
      "text/plain": [
       "{'name': 'Dhairya', 'Age': 18, 'course': 'Data Science'}"
      ]
     },
     "execution_count": 7,
     "metadata": {},
     "output_type": "execute_result"
    }
   ],
   "source": [
    "del d[\"gender\"]\n",
    "d"
   ]
  },
  {
   "cell_type": "code",
   "execution_count": null,
   "id": "073c0aba-3a39-41ce-93f6-0606ca7fdaf5",
   "metadata": {},
   "outputs": [],
   "source": []
  },
  {
   "cell_type": "code",
   "execution_count": 8,
   "id": "88779749-c0a5-4594-8de2-4584ebbfa5eb",
   "metadata": {},
   "outputs": [],
   "source": [
    "# 8. Describe the importance of dictionary keys being immutable and provide examples.\n",
    "# Ans(8) In Python, dictionary keys must be immutable. This means once a key is created, it cannot be changed. \n",
    "# This is important for several reasons:"
   ]
  },
  {
   "cell_type": "code",
   "execution_count": 10,
   "id": "94010d31-e39e-4125-b824-f8806aff1466",
   "metadata": {},
   "outputs": [
    {
     "data": {
      "text/plain": [
       "'Dhairya'"
      ]
     },
     "execution_count": 10,
     "metadata": {},
     "output_type": "execute_result"
    }
   ],
   "source": [
    "# If keys could change, it would be hard to keep track of dictionary items.\n",
    "# Ex:- \n",
    "\n",
    "dic = {\"name\":\"Dhairya\", \"age\":17, \"course\":\"Data Scince\"}\n",
    "dic\n",
    "dic[\"name\"]"
   ]
  }
 ],
 "metadata": {
  "kernelspec": {
   "display_name": "Python 3 (ipykernel)",
   "language": "python",
   "name": "python3"
  },
  "language_info": {
   "codemirror_mode": {
    "name": "ipython",
    "version": 3
   },
   "file_extension": ".py",
   "mimetype": "text/x-python",
   "name": "python",
   "nbconvert_exporter": "python",
   "pygments_lexer": "ipython3",
   "version": "3.10.8"
  }
 },
 "nbformat": 4,
 "nbformat_minor": 5
}
